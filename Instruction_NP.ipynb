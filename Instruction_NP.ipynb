{
 "cells": [
  {
   "cell_type": "markdown",
   "id": "a5730c4e-4f28-4df2-a27e-d15c76c7aabf",
   "metadata": {},
   "source": [
    "# $fcc$ calculations\n",
    "\n",
    "This notebook deals with obtaining Sentinel 2 data from before and after the fire. We assume:\n",
    "* the fire perimeter is available, and \n",
    "* we know the date the fire originated.\n",
    "\n",
    "The code will download a median composite of band reflectance for the 15 days before the start of the fire, and a similar composite of the reflectance 15 days after the fire. These two can then be used to calculate $fcc$\n",
    "\n",
    "## Downloading data from GEE\n",
    "\n",
    "We have a simple script to download data from GEE. Here, I assume that we have a geojson file ([`data/Historic_Perimeters_2019.geojson`](data/Historic_Perimeters_2019.geojson)) present that contains the geometry of the fire perimeter as well as some indication of the earliest day of burn. **This is just an example**\n",
    "\n",
    "The following code snippet will take a while, and it is assumed that you can call the Python EarthEngine bindings in your installation. Once the snippet finishes (it will print a message), you can see the downloaded files in the `s2_data` folder.\n",
    "\n",
    "For each fire, you get two GeoTIFF files that are clipped to the extent of the fire perimeter (plus some additional 250m buffering). Both files contain the following Sentinel 2 bands in this order:\n",
    "`sel_bands = [\"B2\", \"B3\", \"B4\", \"B5\", \"B6\", \"B7\", \"B8\", \"B11\", \"B12\"]`"
   ]
  },
  {
   "cell_type": "code",
   "execution_count": 1,
   "id": "497cfcfe-c184-4ecd-a7d7-41eb5bfa0d8c",
   "metadata": {},
   "outputs": [],
   "source": [
    "import warnings\n",
    "import numpy as np\n",
    "import json\n",
    "import datetime\n",
    "import multiprocessing\n",
    "from osgeo import gdal\n",
    "import matplotlib.pyplot as plt\n",
    "gdal.SetConfigOption('CPL_LOG', '/dev/null')"
   ]
  },
  {
   "cell_type": "code",
   "execution_count": 8,
   "id": "7e58541f-b8ae-4d39-8810-11ddb442a525",
   "metadata": {},
   "outputs": [
    {
     "name": "stdout",
     "output_type": "stream",
     "text": [
      "No data available. 2018-07-26 00:00:00 <-> 2018-08-26 00:00:00No data available. 2018-07-28 00:00:00 <-> 2018-08-28 00:00:00No data available. 2018-07-30 00:00:00 <-> 2018-08-30 00:00:00No data available. 2018-07-27 00:00:00 <-> 2018-08-27 00:00:00No data available. 2018-07-30 00:00:00 <-> 2018-08-30 00:00:00\n",
      "\n",
      "\n",
      "\n",
      "\n",
      "No data available. 2018-07-27 00:00:00 <-> 2018-08-27 00:00:00No data available. 2018-07-30 00:00:00 <-> 2018-08-30 00:00:00\n",
      "\n",
      "No data available. 2018-07-28 00:00:00 <-> 2018-08-28 00:00:00No data available. 2018-07-30 00:00:00 <-> 2018-08-30 00:00:00No data available. 2018-07-26 00:00:00 <-> 2018-08-26 00:00:00\n",
      "\n",
      "\n",
      "No data available. 2018-07-26 00:00:00 <-> 2018-08-26 00:00:00No data available. 2018-07-25 00:00:00 <-> 2018-08-25 00:00:00No data available. 2018-07-29 00:00:00 <-> 2018-08-29 00:00:00No data available. 2018-07-28 00:00:00 <-> 2018-08-28 00:00:00No data available. 2018-07-30 00:00:00 <-> 2018-08-30 00:00:00\n",
      "\n",
      "\n",
      "\n",
      "\n",
      "No data available. 2018-07-29 00:00:00 <-> 2018-08-29 00:00:00No data available. 2018-07-28 00:00:00 <-> 2018-08-28 00:00:00No data available. 2018-07-26 00:00:00 <-> 2018-08-26 00:00:00No data available. 2018-07-30 00:00:00 <-> 2018-08-30 00:00:00\n",
      "\n",
      "\n",
      "\n",
      "No data available. 2018-07-25 00:00:00 <-> 2018-08-25 00:00:00\n",
      "No data available. 2018-07-28 00:00:00 <-> 2018-08-28 00:00:00No data available. 2018-07-27 00:00:00 <-> 2018-08-27 00:00:00No data available. 2018-07-28 00:00:00 <-> 2018-08-28 00:00:00\n",
      "\n",
      "\n",
      "No data available. 2018-07-24 00:00:00 <-> 2018-08-24 00:00:00\n",
      "No data available. 2018-07-24 00:00:00 <-> 2018-08-24 00:00:00\n",
      "No data available. 2018-07-28 00:00:00 <-> 2018-08-28 00:00:00No data available. 2018-07-27 00:00:00 <-> 2018-08-27 00:00:00No data available. 2018-07-24 00:00:00 <-> 2018-08-24 00:00:00No data available. 2018-07-28 00:00:00 <-> 2018-08-28 00:00:00No data available. 2018-07-24 00:00:00 <-> 2018-08-24 00:00:00\n",
      "\n",
      "\n",
      "\n",
      "\n",
      "No data available. 2018-07-28 00:00:00 <-> 2018-08-28 00:00:00\n",
      "No data available. 2018-07-29 00:00:00 <-> 2018-08-29 00:00:00\n",
      "No data available. 2018-07-21 00:00:00 <-> 2018-08-21 00:00:00\n",
      "No data available. 2018-07-22 00:00:00 <-> 2018-08-22 00:00:00\n",
      "No data available. 2018-07-21 00:00:00 <-> 2018-08-21 00:00:00No data available. 2018-07-28 00:00:00 <-> 2018-08-28 00:00:00No data available. 2018-07-22 00:00:00 <-> 2018-08-22 00:00:00No data available. 2018-07-29 00:00:00 <-> 2018-08-29 00:00:00\n",
      "\n",
      "\n",
      "Done downloading!\n",
      "\n"
     ]
    }
   ],
   "source": [
    "\n",
    "from gee_grab import getResult\n",
    "\n",
    "# Let's open the geojson file with some fires\n",
    "with open(\"data/h09v05_Aug_GEOJSON_wgs84.geojson\", \"r\") as fp:\n",
    "    db = json.load(fp)\n",
    "year = 2018\n",
    "month = \"aug\"\n",
    "tile = \"h09v05\"\n",
    "labels = []\n",
    "geometries = []\n",
    "burn_dates = []\n",
    "for sel_idx in range(25):\n",
    "    label = f\"{tile}_{year}_{month}_{sel_idx}\"\n",
    "    geometry = db['features'][sel_idx]['geometry']\n",
    "    DN = db['features'][sel_idx]['properties'][\"DN\"]\n",
    "    if DN>=1 and DN <=366:\n",
    "        \n",
    "        burn_date =  datetime.datetime.strptime(f\"{year}/{DN}\", \"%Y/%j\")\n",
    "        labels.append(label)\n",
    "        geometries.append(geometry)\n",
    "        burn_dates.append(burn_date)\n",
    "pool = multiprocessing.Pool(5)\n",
    "filenames = pool.starmap(getResult, zip(labels, geometries, burn_dates))\n",
    "print(\"Done downloading!\")\n"
   ]
  },
  {
   "cell_type": "code",
   "execution_count": 7,
   "id": "4f111d98-cac3-4b72-8515-edc184a79a09",
   "metadata": {},
   "outputs": [
    {
     "data": {
      "text/plain": [
       "<matplotlib.image.AxesImage at 0x7f5f20ee0df0>"
      ]
     },
     "execution_count": 7,
     "metadata": {},
     "output_type": "execute_result"
    },
    {
     "data": {
      "image/png": "[encoded data removed]",
      "text/plain": [
       "<Figure size 432x288 with 1 Axes>"
      ]
     },
     "metadata": {
      "needs_background": "light"
     },
     "output_type": "display_data"
    }
   ],
   "source": [
    "data=gdal.Open(\"s2_data/h09v05_2021_aug_10_postfire.tif\").ReadAsArray()\n",
    "plt.imshow(data[2])"
   ]
  },
  {
   "cell_type": "code",
   "execution_count": null,
   "id": "67c3f34b-ad13-4623-89c5-af0b1ad51eb8",
   "metadata": {},
   "outputs": [],
   "source": []
  },
  {
   "cell_type": "code",
   "execution_count": null,
   "id": "653fe95b-2b74-401b-96a3-a4830dd95c51",
   "metadata": {},
   "outputs": [],
   "source": []
  },
  {
   "cell_type": "markdown",
   "id": "cc0304c1-aec3-49df-8342-724168c008bf",
   "metadata": {},
   "source": [
    "## Converting GeoJSON in MODIS sinusoidal projection to WGS84 (Lat/Lon)\n",
    "\n",
    "```\n",
    "!ogr2ogr -t_srs \"EPSG:4326\" -s_srs \"+proj=sinu +R=6371007.181 +nadgrids=@null +wktext\" \\\n",
    "        h09v05_Aug_GEOJSON_wgs84.geojson h09v05_Aug_GEOJSON.geojson \n",
    "```\n",
    "\n",
    "which basically means reproject the seconf file from MODIS sinusoidal to lat/lon and store it in the first filename.\n",
    "\n",
    "```\n",
    "!ogr2ogr -t_srs \"EPSG:4326\" -s_srs \"+proj=sinu +R=6371007.181 +nadgrids=@null +wktext\" \\\n",
    "        <output_filename>.geojson <input_filename>.geojson \n"
   ]
  },
  {
   "cell_type": "code",
   "execution_count": null,
   "id": "75d19538-2033-4394-a9af-8ed7433a050a",
   "metadata": {},
   "outputs": [],
   "source": []
  }
 ],
 "metadata": {
  "kernelspec": {
   "display_name": "Python 3 (ipykernel)",
   "language": "python",
   "name": "python3"
  },
  "language_info": {
   "codemirror_mode": {
    "name": "ipython",
    "version": 3
   },
   "file_extension": ".py",
   "mimetype": "text/x-python",
   "name": "python",
   "nbconvert_exporter": "python",
   "pygments_lexer": "ipython3",
   "version": "3.9.9"
  }
 },
 "nbformat": 4,
 "nbformat_minor": 5
}
